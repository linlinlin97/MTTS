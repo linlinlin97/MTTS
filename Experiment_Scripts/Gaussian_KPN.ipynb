{
 "cells": [
  {
   "cell_type": "code",
   "execution_count": null,
   "metadata": {},
   "outputs": [],
   "source": [
    "from _util import *\n",
    "os.environ[\"OMP_NUM_THREADS\"] = \"1\"\n",
    "os.environ[\"MKL_NUM_THREADS\"] = \"1\"\n",
    "os.environ[\"OPENBLAS_NUM_THREADS\"] = \"1\"\n",
    "os.environ[\"VECLIB_MAXIMUM_THREADS\"] = \"1\"\n",
    "os.environ[\"NUMEXPR_NUM_THREADS\"] = \"1\"\n",
    "\n",
    "import _experiment as _experiment\n",
    "reload(_experiment)\n",
    "\n",
    "# import shutil\n",
    "# shutil.rmtree(\"res/0316\") /\n",
    "# shutil.rmtree(\"fig/0327\") "
   ]
  },
  {
   "cell_type": "markdown",
   "metadata": {},
   "source": [
    "## Specifically, we are interested in several questions (do not present them in the main text!!! but investigate some questions with themselves)\n",
    "1. can use much larger \"MTS_freq\" & less iteration"
   ]
  },
  {
   "cell_type": "markdown",
   "metadata": {},
   "source": [
    "## how will K affect the performance?: K → 20 or K → 2"
   ]
  },
  {
   "cell_type": "code",
   "execution_count": null,
   "metadata": {
    "tags": []
   },
   "outputs": [],
   "source": [
    "N = 100\n",
    "T = 100\n",
    "K = 2\n",
    "p = 15\n",
    "# NT_pairs = [[30, 100]]\n",
    "# Kp_pairs = [[5, 15], [3, 10]]\n",
    "Ks = [3, 6, 9, 12]\n",
    "sigma1_squares = [0.25, 0.5]\n",
    "\n",
    "sigma = 1\n",
    "for order in [\"concurrent\"]:\n",
    "    for sigma1_square in sigma1_squares:\n",
    "        for K in Ks:\n",
    "            reload(_experiment)\n",
    "            run = _experiment.run_experiment(N = N, T = T, K = K, p = p\n",
    "                                             , order = order\n",
    "                                             , sigma1_square = sigma1_square\n",
    "                                             , is_Binary = False\n",
    "                                             , sigma = sigma\n",
    "                                             , save_prefix = \"more_Gaussian\"\n",
    "                                             , print_SNR = True\n",
    "                                             , MTS_freq = 20\n",
    "                                            )\n",
    "            r = run.run_multiple_parallel(100, 2)\n",
    "            run.plot_regret(ci = None\n",
    "                            , plot_mean = True\n",
    "                           , skip_methods = [\"OSFA\"]\n",
    "                            , y_min = None\n",
    "                           )\n",
    "            run.save(sub_folder = [\"N\", \"T\",  \"p\", \"sigma\"], no_care_keys = [\"Sigma_theta_factor\", \"Sigma_x_factor\"]) # \"K\","
   ]
  },
  {
   "cell_type": "markdown",
   "metadata": {},
   "source": [
    "## how will sigma^2 affect the performance?: simga = [0.3, 1, 3]"
   ]
  },
  {
   "cell_type": "code",
   "execution_count": null,
   "metadata": {
    "tags": []
   },
   "outputs": [],
   "source": [
    "N = 100\n",
    "T = 100\n",
    "K = 8\n",
    "p = 15\n",
    "# NT_pairs = [[30, 100]]\n",
    "# Kp_pairs = [[5, 15], [3, 10]]\n",
    "sigma1_squares = [0.25, 0.5]\n",
    "\n",
    "\n",
    "for order in [\"concurrent\"]:\n",
    "    for sigma1_square in sigma1_squares:\n",
    "        for sigma in [0.3, 1, 3]:\n",
    "            reload(_experiment)\n",
    "            run = _experiment.run_experiment(N = N, T = T, K = K, p = p\n",
    "                                             , order = order\n",
    "                                             , sigma1_square = sigma1_square\n",
    "                                             , is_Binary = False\n",
    "                                             , sigma = sigma\n",
    "                                             , save_prefix = \"more_Gaussian\"\n",
    "                                             , print_SNR = True\n",
    "                                             , MTS_freq = 20\n",
    "                                            )\n",
    "            r = run.run_multiple_parallel(100, 2)\n",
    "            run.plot_regret(ci = None\n",
    "                            , plot_mean = True\n",
    "                           , skip_methods = [\"OSFA\"]\n",
    "                            , y_min = None\n",
    "                           )\n",
    "            run.save(sub_folder = [\"N\", \"T\", \"K\", \"p\"], no_care_keys = [\"Sigma_theta_factor\", \"Sigma_x_factor\"]) # \"K\","
   ]
  },
  {
   "cell_type": "markdown",
   "metadata": {},
   "source": [
    "## how will p affect the performance?: simga = [10, 20, 30, 40]"
   ]
  },
  {
   "cell_type": "code",
   "execution_count": null,
   "metadata": {
    "tags": []
   },
   "outputs": [],
   "source": [
    "N = 100\n",
    "T = 100\n",
    "K = 8\n",
    "p = 15\n",
    "# NT_pairs = [[30, 100]]\n",
    "# Kp_pairs = [[5, 15], [3, 10]]\n",
    "sigma1_squares = [0.25, 0.5]\n",
    "sigma = 1\n",
    "\n",
    "for order in [\"concurrent\"]:\n",
    "    for sigma1_square in sigma1_squares:\n",
    "        for p in [10, 20, 30, 40]:\n",
    "            reload(_experiment)\n",
    "            run = _experiment.run_experiment(N = N, T = T, K = K, p = p\n",
    "                                             , order = order\n",
    "                                             , sigma1_square = sigma1_square\n",
    "                                             , is_Binary = False\n",
    "                                             , sigma = sigma\n",
    "                                             , save_prefix = \"more_Gaussian\"\n",
    "                                             , print_SNR = True\n",
    "                                             , MTS_freq = 20\n",
    "                                            )\n",
    "            r = run.run_multiple_parallel(100, 2)\n",
    "            run.plot_regret(ci = None\n",
    "                            , plot_mean = True\n",
    "                           , skip_methods = [\"OSFA\"]\n",
    "                            , y_min = None\n",
    "                           )\n",
    "            run.save(sub_folder = [\"N\", \"T\", \"K\", \"sigma\"], no_care_keys = [\"Sigma_theta_factor\", \"Sigma_x_factor\"]) "
   ]
  },
  {
   "cell_type": "markdown",
   "metadata": {},
   "source": [
    "## how will p affect the performance?: simga = [10, 20, 30, 40]"
   ]
  },
  {
   "cell_type": "code",
   "execution_count": null,
   "metadata": {
    "tags": []
   },
   "outputs": [],
   "source": [
    "N = 100\n",
    "T = 100\n",
    "K = 8\n",
    "p = 15\n",
    "# NT_pairs = [[30, 100]]\n",
    "# Kp_pairs = [[5, 15], [3, 10]]\n",
    "sigma1_squares = [0.25, 0.5]\n",
    "sigma = 1\n",
    "\n",
    "for order in [\"concurrent\"]:\n",
    "    for sigma1_square in sigma1_squares:\n",
    "        for p in [10, 20, 30, 40]:\n",
    "            reload(_experiment)\n",
    "            run = _experiment.run_experiment(N = N, T = T, K = K, p = p\n",
    "                                             , order = order\n",
    "                                             , sigma1_square = sigma1_square\n",
    "                                             , is_Binary = False\n",
    "                                             , sigma = sigma\n",
    "                                             , save_prefix = \"more_Gaussian\"\n",
    "                                             , print_SNR = True\n",
    "                                             , MTS_freq = 20\n",
    "                                            )\n",
    "            r = run.run_multiple_parallel(100, 2)\n",
    "            run.plot_regret(ci = None\n",
    "                            , plot_mean = True\n",
    "                           , skip_methods = [\"OSFA\"]\n",
    "                            , y_min = None\n",
    "                           )\n",
    "            run.save(sub_folder = [\"N\", \"T\", \"K\", \"sigma\"], no_care_keys = [\"Sigma_theta_factor\", \"Sigma_x_factor\"]) "
   ]
  },
  {
   "cell_type": "markdown",
   "metadata": {},
   "source": [
    "## how will N affect the performance in episodic: N = [20, 50, 100, 300]"
   ]
  },
  {
   "cell_type": "code",
   "execution_count": null,
   "metadata": {
    "tags": []
   },
   "outputs": [],
   "source": [
    "N = 100\n",
    "T = 100\n",
    "K = 8\n",
    "p = 15\n",
    "# NT_pairs = [[30, 100]]\n",
    "# Kp_pairs = [[5, 15], [3, 10]]\n",
    "sigma1_squares = [0.25, 0.5]\n",
    "sigma = 1\n",
    "\n",
    "for order in [\"concurrent\"]:\n",
    "    for sigma1_square in sigma1_squares:\n",
    "        for N in [20, 50, 100, 300]:\n",
    "            reload(_experiment)\n",
    "            run = _experiment.run_experiment(N = N, T = T, K = K, p = p\n",
    "                                             , order = order\n",
    "                                             , sigma1_square = sigma1_square\n",
    "                                             , is_Binary = False\n",
    "                                             , sigma = sigma\n",
    "                                             , save_prefix = \"more_Gaussian\"\n",
    "                                             , print_SNR = True\n",
    "                                             , MTS_freq = 20\n",
    "                                            )\n",
    "            r = run.run_multiple_parallel(100, 2)\n",
    "            run.plot_regret(ci = None\n",
    "                            , plot_mean = True\n",
    "                           , skip_methods = [\"OSFA\"]\n",
    "                            , y_min = None\n",
    "                           )\n",
    "            run.save(sub_folder = [\"T\", \"K\", \"p\",\"sigma\"], no_care_keys = [\"Sigma_theta_factor\", \"Sigma_x_factor\"]) "
   ]
  }
 ],
 "metadata": {
  "kernelspec": {
   "display_name": "Python 3",
   "language": "python",
   "name": "python3"
  },
  "language_info": {
   "codemirror_mode": {
    "name": "ipython",
    "version": 3
   },
   "file_extension": ".py",
   "mimetype": "text/x-python",
   "name": "python",
   "nbconvert_exporter": "python",
   "pygments_lexer": "ipython3",
   "version": "3.7.6"
  }
 },
 "nbformat": 4,
 "nbformat_minor": 4
}
