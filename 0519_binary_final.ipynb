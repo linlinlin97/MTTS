{
 "cells": [
  {
   "cell_type": "code",
   "execution_count": 1,
   "metadata": {},
   "outputs": [
    {
     "data": {
      "text/plain": [
       "<module '_experiment' from '/home/ec2-user/SageMaker/MTS/_experiment.py'>"
      ]
     },
     "execution_count": 1,
     "metadata": {},
     "output_type": "execute_result"
    }
   ],
   "source": [
    "from _util import *\n",
    "os.environ[\"OMP_NUM_THREADS\"] = \"1\"\n",
    "os.environ[\"MKL_NUM_THREADS\"] = \"1\"\n",
    "os.environ[\"OPENBLAS_NUM_THREADS\"] = \"1\"\n",
    "os.environ[\"VECLIB_MAXIMUM_THREADS\"] = \"1\"\n",
    "os.environ[\"NUMEXPR_NUM_THREADS\"] = \"1\"\n",
    "\n",
    "import _experiment as _experiment\n",
    "reload(_experiment)\n",
    "\n",
    "# import shutil\n",
    "# shutil.rmtree(\"res/0316\") /\n",
    "# shutil.rmtree(\"fig/0327\") "
   ]
  },
  {
   "cell_type": "code",
   "execution_count": null,
   "metadata": {
    "tags": []
   },
   "outputs": [],
   "source": [
    "N = 200\n",
    "T = 200\n",
    "KPs = [[8, 15]] # [5, 10], \n",
    "for K, p in KPs:\n",
    "    for phi_beta in [0.2]:  # , 0.3\n",
    "        for order in ['episodic']: # , 'concurrent'\n",
    "            reload(_experiment)\n",
    "            run = _experiment.run_experiment(N = N, T = T, K = K, p = p\n",
    "                                             , phi_beta = phi_beta, is_Binary = True\n",
    "                                             , save_prefix = None\n",
    "                                             , order = order\n",
    "                                             , MTS_freq = 2\n",
    "                                             , GLB_freq = \"auto\"\n",
    "                                             , Sigma_theta_factor = 1, Sigma_x_factor = 1\n",
    "        #                                      ,only_ratio = 1\n",
    "                                            )\n",
    "            r = run.run_multiple_parallel(100)\n",
    "            run.plot_regret(ci = 68\n",
    "                            , plot_mean = True\n",
    "                           , skip_methods = [\"OSFA\"]\n",
    "                           )\n",
    "            run.save(sub_folder = [\"N\", \"T\", \"K\", \"p\"])"
   ]
  },
  {
   "cell_type": "code",
   "execution_count": null,
   "metadata": {
    "tags": []
   },
   "outputs": [],
   "source": [
    "N = 200\n",
    "T = 200\n",
    "KPs = [[8, 15]] # [5, 10], \n",
    "for K, p in KPs:\n",
    "    for phi_beta in [0.05, 0.1, 0.2]:  # , 0.3\n",
    "        for order in ['episodic']: # , 'concurrent'\n",
    "            reload(_experiment)\n",
    "            run = _experiment.run_experiment(N = N, T = T, K = K, p = p\n",
    "                                             , phi_beta = phi_beta, is_Binary = True\n",
    "                                             , save_prefix = None\n",
    "                                             , order = order\n",
    "                                             , MTS_freq = 2\n",
    "                                             , GLB_freq = \"auto\"\n",
    "                                             , Sigma_theta_factor = 1, Sigma_x_factor = 1\n",
    "        #                                      ,only_ratio = 1\n",
    "                                            )\n",
    "            r = run.run_multiple_parallel(100)\n",
    "            run.plot_regret(ci = 68\n",
    "                            , plot_mean = True\n",
    "                           , skip_methods = [\"OSFA\"]\n",
    "                           )\n",
    "            run.save(sub_folder = [\"N\", \"T\", \"K\", \"p\"])"
   ]
  }
 ],
 "metadata": {
  "kernelspec": {
   "display_name": "Python 3",
   "language": "python",
   "name": "python3"
  },
  "language_info": {
   "codemirror_mode": {
    "name": "ipython",
    "version": 3
   },
   "file_extension": ".py",
   "mimetype": "text/x-python",
   "name": "python",
   "nbconvert_exporter": "python",
   "pygments_lexer": "ipython3",
   "version": "3.7.6"
  }
 },
 "nbformat": 4,
 "nbformat_minor": 4
}
